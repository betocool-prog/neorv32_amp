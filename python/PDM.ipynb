{
 "cells": [
  {
   "cell_type": "code",
   "execution_count": null,
   "id": "f4bafc88-b70d-418c-8446-c54ad4b7a82f",
   "metadata": {},
   "outputs": [],
   "source": [
    "import numpy as np\n",
    "import matplotlib.pyplot as plt"
   ]
  },
  {
   "cell_type": "code",
   "execution_count": null,
   "id": "72816c7f-e16a-4b2c-8ff3-5c4bd467f711",
   "metadata": {},
   "outputs": [],
   "source": [
    "def pdm(x):\n",
    "    n = len(x)\n",
    "    y = np.zeros(n)\n",
    "    out = np.zeros(n)\n",
    "    error = np.zeros(n+1)    \n",
    "    for i in range(n):\n",
    "        y[i] = 2**14 if x[i] >= error[i] else 0\n",
    "        out[i] = 1 if x[i] >= error[i] else 0\n",
    "        error[i+1] = y[i] - x[i] + error[i]\n",
    "    return y, error[0:n]\n",
    "\n",
    "n = 100\n",
    "fclk = 250e6 # clock frequency (Hz)\n",
    "t = np.arange(n) / fclk\n",
    "f_sin = 5e6 # sine frequency (Hz)\n",
    "\n",
    "x = 2**13 + 0.4 * 2**14 * np.sin(2*np.pi*f_sin*t)\n",
    "y, error = pdm(x)\n",
    "\n",
    "plt.plot(1e9*t, x, label='input signal')\n",
    "plt.step(1e9*t, y, label='pdm signal',  linewidth=2.0)\n",
    "plt.step(1e9*t, error, label='error')\n",
    "plt.xlabel('Time (ns)')\n",
    "# plt.ylim(-0.05,1.05)\n",
    "plt.legend()\n",
    "plt.show()"
   ]
  }
 ],
 "metadata": {
  "kernelspec": {
   "display_name": "Python 3.10.4 64-bit",
   "language": "python",
   "name": "python3"
  },
  "language_info": {
   "codemirror_mode": {
    "name": "ipython",
    "version": 3
   },
   "file_extension": ".py",
   "mimetype": "text/x-python",
   "name": "python",
   "nbconvert_exporter": "python",
   "pygments_lexer": "ipython3",
   "version": "3.10.4"
  },
  "vscode": {
   "interpreter": {
    "hash": "916dbcbb3f70747c44a77c7bcd40155683ae19c65e1c03b4aa3499c5328201f1"
   }
  }
 },
 "nbformat": 4,
 "nbformat_minor": 5
}
