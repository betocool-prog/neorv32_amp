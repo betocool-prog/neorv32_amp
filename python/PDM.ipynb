{
 "cells": [
  {
   "cell_type": "code",
   "execution_count": null,
   "id": "f4bafc88-b70d-418c-8446-c54ad4b7a82f",
   "metadata": {},
   "outputs": [],
   "source": [
    "%gui qt"
   ]
  },
  {
   "cell_type": "code",
   "execution_count": null,
   "id": "43670fc6",
   "metadata": {},
   "outputs": [],
   "source": [
    "import pyqtgraph as pg\n",
    "import numpy as np\n",
    "\n",
    "# Enable antialiasing for prettier plots\n",
    "pg.setConfigOptions(antialias=True)\n",
    "pg.setConfigOptions(background='w')"
   ]
  },
  {
   "cell_type": "code",
   "execution_count": null,
   "id": "f9175df6",
   "metadata": {},
   "outputs": [],
   "source": [
    "def pdm(x):\n",
    "    \n",
    "    n = len(x)\n",
    "    y = np.zeros(n)\n",
    "    out = np.zeros(n)\n",
    "    error = np.zeros(n+1)  \n",
    "\n",
    "    for i in range(n):\n",
    "        y[i] = 2**14 if x[i] >= error[i] else 0\n",
    "        out[i] = 1 if x[i] >= error[i] else 0\n",
    "        error[i+1] = y[i] - x[i] + error[i]\n",
    "\n",
    "    return y, error[0:n]"
   ]
  },
  {
   "cell_type": "code",
   "execution_count": null,
   "id": "69a443db",
   "metadata": {},
   "outputs": [],
   "source": [
    "F_SAMPLING = 48000\n",
    "OVERSAMPLING = 128\n",
    "F_OVERSAMPLING = F_SAMPLING * OVERSAMPLING\n",
    "NR_OF_SAMPLES = 128\n",
    "FREQUENCY = 2000\n",
    "\n",
    "AMPLITUDE = 1\n",
    "OFFSET = 0"
   ]
  },
  {
   "cell_type": "code",
   "execution_count": null,
   "id": "efc5ca13",
   "metadata": {},
   "outputs": [],
   "source": [
    "x_time = np.linspace(0, NR_OF_SAMPLES - 1, NR_OF_SAMPLES) / F_SAMPLING\n",
    "sync_signal = OFFSET + AMPLITUDE * np.sinc(2 * FREQUENCY * (x_time - NR_OF_SAMPLES/2/F_SAMPLING))\n",
    "sync_window = OFFSET + AMPLITUDE * np.sinc(F_SAMPLING/64 * (x_time- NR_OF_SAMPLES/2/F_SAMPLING))\n",
    "test_signal = sync_signal * sync_window\n",
    "\n",
    "test_signal_fft = 20 * np.log10(np.abs(np.fft.fft(test_signal / NR_OF_SAMPLES)))\n",
    "freq_axis = np.linspace(0, NR_OF_SAMPLES - 1, NR_OF_SAMPLES) / NR_OF_SAMPLES * F_SAMPLING\n",
    "\n",
    "win = pg.GraphicsLayoutWidget(show=True, title=\"PDM Plots\")\n",
    "win.resize(1000,600)\n",
    "win.setWindowTitle('PDM Plots')\n",
    "\n",
    "p1 = win.addPlot(title=\"Sinc Signal\")\n",
    "p1.showGrid(x=True, y=True)\n",
    "p1.plot(x_time, test_signal, pen='r', stepMode=\"right\", symbol='+')\n",
    "\n",
    "win.nextRow()\n",
    "p2 = win.addPlot(title=\"Frequency\")\n",
    "p2.showGrid(x=True, y=True)\n",
    "p2.plot(freq_axis, test_signal_fft, pen='r')"
   ]
  },
  {
   "cell_type": "code",
   "execution_count": null,
   "id": "23e6d98b",
   "metadata": {},
   "outputs": [],
   "source": [
    "x_time = np.linspace(0, NR_OF_SAMPLES * OVERSAMPLING - 1, NR_OF_SAMPLES * OVERSAMPLING) / (F_SAMPLING * OVERSAMPLING)\n",
    "pcm_signal = OFFSET + AMPLITUDE * np.sinc(2 * np.pi * FREQUENCY * (x_time[::OVERSAMPLING] - NR_OF_SAMPLES/2/F_SAMPLING))\n",
    "sync_signal = OFFSET + AMPLITUDE * np.sinc(F_SAMPLING/64 * (x_time[::OVERSAMPLING] - NR_OF_SAMPLES/2/F_SAMPLING))\n",
    "\n",
    "upsampled_pcm = np.zeros(OVERSAMPLING * len(pcm_signal))\n",
    "upsampled_pcm[::OVERSAMPLING] = pcm_signal\n",
    "\n",
    "pcm_signal_fft = 20 * np.log10(2 * np.abs(np.fft.fft(pcm_signal))[0:np.uint(NR_OF_SAMPLES/2)])\n",
    "upsampled_pcm_fft = 20 * np.log10(2 * np.abs(np.fft.fft(upsampled_pcm))[0:np.uint(NR_OF_SAMPLES * OVERSAMPLING/2)])\n",
    "\n",
    "# n = 100\n",
    "# fclk = 250e6 # clock frequency (Hz)\n",
    "# t = np.arange(n) / fclk\n",
    "# f_sin = 5e6 # sine frequency (Hz)\n",
    "\n",
    "# x = 2**13 + 0.4 * 2**14 * np.sin(2*np.pi*f_sin*t)\n",
    "# y, error = pdm(x)\n",
    "\n",
    "# Enable antialiasing for prettier plots\n",
    "pg.setConfigOptions(antialias=True)\n",
    "pg.setConfigOptions(background='w')\n",
    "\n",
    "win = pg.GraphicsLayoutWidget(show=True, title=\"PDM Plots\")\n",
    "win.resize(1000,600)\n",
    "win.setWindowTitle('PDM Plots')\n",
    "\n",
    "p1 = win.addPlot(title=\"Sinc Signal\")\n",
    "p1.showGrid(x=True, y=True)\n",
    "p1.plot(x_time[::OVERSAMPLING], pcm_signal, pen='r', stepMode=\"right\", symbol='+')\n",
    "p1.plot(x_time[::OVERSAMPLING], sync_signal, pen='r', stepMode=\"right\", symbol='+')\n",
    "# p1.plot(x_time, upsampled_pcm, pen='b', stepMode=\"right\", symbol='x')\n",
    "\n",
    "win.nextRow()\n",
    "p2 = win.addPlot(title=\"Frequency\")\n",
    "p2.showGrid(x=True, y=True)\n",
    "p2.plot(pcm_signal_fft, pen='r')\n",
    "# p2.plot(upsampled_pcm_fft, pen='b')\n",
    "\n",
    "# p1.plot(x=1e9*t, y=y, color='r')\n",
    "\n",
    "# win.nextRow()\n",
    "# p2 = win.addPlot(title=\"Error Signal\")\n",
    "# p2.plot(x=1e9*t, y=error, stepMode=\"left\")"
   ]
  }
 ],
 "metadata": {
  "kernelspec": {
   "display_name": "Python 3.9.7 ('base')",
   "language": "python",
   "name": "python3"
  },
  "language_info": {
   "codemirror_mode": {
    "name": "ipython",
    "version": 3
   },
   "file_extension": ".py",
   "mimetype": "text/x-python",
   "name": "python",
   "nbconvert_exporter": "python",
   "pygments_lexer": "ipython3",
   "version": "3.9.7"
  },
  "vscode": {
   "interpreter": {
    "hash": "a3bd804cb3ad250325874e6c7bf0c3c2e7a4a2861d6c20c42697693ea7fc5229"
   }
  }
 },
 "nbformat": 4,
 "nbformat_minor": 5
}
